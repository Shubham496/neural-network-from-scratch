{
 "cells": [
  {
   "cell_type": "markdown",
   "id": "06f3710a-9633-4321-a16d-e0abf7712ff3",
   "metadata": {},
   "source": [
    "#### single neuron"
   ]
  },
  {
   "cell_type": "code",
   "execution_count": 1,
   "id": "fb0c821d-db0d-4204-bb24-3c34b0760049",
   "metadata": {},
   "outputs": [],
   "source": [
    "inputs = [1,2,3]\n",
    "weights = [0.2, 0.8, -0.5]\n",
    "bias = 2"
   ]
  },
  {
   "cell_type": "code",
   "execution_count": 2,
   "id": "2ed5a0a2-6919-43e0-981b-ca8eddfa08f1",
   "metadata": {},
   "outputs": [
    {
     "name": "stdout",
     "output_type": "stream",
     "text": [
      "2.3\n"
     ]
    }
   ],
   "source": [
    "output = inputs[0]*weights[0] + inputs[1]*weights[1]+ inputs[2]*weights[2] +bias\n",
    "print(output)"
   ]
  },
  {
   "cell_type": "markdown",
   "id": "da722046-bcf4-4ea1-b841-9fa11daf7373",
   "metadata": {},
   "source": [
    "##### adding an input"
   ]
  },
  {
   "cell_type": "code",
   "execution_count": 3,
   "id": "3ae24c47-ed96-4b85-bb7d-85fa8c4e9285",
   "metadata": {},
   "outputs": [],
   "source": [
    "inputs = [1,2,3, 2.5]\n",
    "weights = [0.2, 0.8, -0.5, 1.0]\n",
    "bias = 2"
   ]
  },
  {
   "cell_type": "code",
   "execution_count": 7,
   "id": "2c05ff98-a2fa-43a9-be0e-24e146305dfd",
   "metadata": {},
   "outputs": [
    {
     "name": "stdout",
     "output_type": "stream",
     "text": [
      "4.8\n"
     ]
    }
   ],
   "source": [
    "output = inputs[0]*weights[0] +inputs[1]*weights[1]+ inputs[2]*weights[2]+ inputs[3]*weights[3] +bias\n",
    "print(output)\n"
   ]
  },
  {
   "cell_type": "markdown",
   "id": "caae9b3b-ebb9-4379-8646-be045360b128",
   "metadata": {},
   "source": [
    "#### Layer of Neuron"
   ]
  },
  {
   "cell_type": "code",
   "execution_count": 8,
   "id": "d6d38b11-fd59-4589-9e89-172b464a2bed",
   "metadata": {},
   "outputs": [],
   "source": [
    "inputs = [1,2,3, 2.5]\n",
    "weights1 = [0.2, 0.8, -0.5, 1.0]\n",
    "weights2 = [0.5, -0.91, 0.26, -0.5]\n",
    "weights3 = [-0.26, -0.27, 0.17, 0.87]\n",
    "\n",
    "bias1 = 2\n",
    "bias2 = 3\n",
    "bias3 = 0.5"
   ]
  },
  {
   "cell_type": "code",
   "execution_count": 9,
   "id": "765bc094-b551-4fab-88a5-de022570ff25",
   "metadata": {},
   "outputs": [],
   "source": [
    "outputs = [\n",
    "    # first neuron\n",
    "    inputs[0] * weights1[0]+\n",
    "    inputs[1] * weights1[1]+\n",
    "    inputs[2] * weights1[2]+\n",
    "    inputs[3] * weights1[3]+ bias1 ,\n",
    "\n",
    "    # second\n",
    "    inputs[0] * weights2[0]+\n",
    "    inputs[1] * weights2[1]+\n",
    "    inputs[2] * weights2[2]+\n",
    "    inputs[3] * weights2[3]+ bias2,\n",
    "\n",
    "    # third neuron\n",
    "    inputs[0] * weights3[0]+\n",
    "    inputs[1] * weights3[1]+\n",
    "    inputs[2] * weights3[2]+\n",
    "    inputs[3] * weights3[3]+ bias3\n",
    "    \n",
    "]"
   ]
  },
  {
   "cell_type": "code",
   "execution_count": 10,
   "id": "0f3c4a51-0d19-48f4-bdb0-78ccadb583ad",
   "metadata": {},
   "outputs": [
    {
     "name": "stdout",
     "output_type": "stream",
     "text": [
      "[4.8, 1.21, 2.385]\n"
     ]
    }
   ],
   "source": [
    "print(outputs)"
   ]
  },
  {
   "cell_type": "markdown",
   "id": "6e533f3f-f080-4089-af65-a461c75fd7ae",
   "metadata": {},
   "source": [
    "#### calculating through loops"
   ]
  },
  {
   "cell_type": "code",
   "execution_count": 13,
   "id": "cf0d0d11-2351-4e78-b191-4cd42aad916e",
   "metadata": {},
   "outputs": [],
   "source": [
    "inputs = [1,2,3, 2.5]\n",
    "weights = [[0.2, 0.8, -0.5, 1.0], \n",
    "           [0.5, -0.91, 0.26, -0.5],\n",
    "           [-0.26, -0.27, 0.17, 0.87]]\n",
    "\n",
    "biases = [2, 3 ,0.5]"
   ]
  },
  {
   "cell_type": "code",
   "execution_count": 12,
   "id": "d1dc63af-044c-4016-aac0-6fb41afbccd9",
   "metadata": {},
   "outputs": [],
   "source": [
    "layers_output = []"
   ]
  },
  {
   "cell_type": "code",
   "execution_count": 14,
   "id": "8a218edf-db7f-429a-ac76-bc300daf3ce3",
   "metadata": {},
   "outputs": [
    {
     "name": "stdout",
     "output_type": "stream",
     "text": [
      "[4.8, 1.21, 2.385]\n"
     ]
    }
   ],
   "source": [
    "# for each neuron\n",
    "for neuron_weights, neuron_bias in zip(weights, biases):\n",
    "    # setting a variable\n",
    "    neuron_output = 0\n",
    "    # for each input and weight \n",
    "    for n_input, weight in zip(inputs, neuron_weights):\n",
    "        neuron_output += n_input *  weight\n",
    "\n",
    "    neuron_output +=  neuron_bias\n",
    "\n",
    "    layers_output.append(neuron_output)\n",
    "\n",
    "print(layers_output)"
   ]
  },
  {
   "cell_type": "markdown",
   "id": "de72ea5f-fbd0-4558-a3a8-d020ed2e6380",
   "metadata": {},
   "source": [
    "#### dot product 2 vectors"
   ]
  },
  {
   "cell_type": "code",
   "execution_count": 16,
   "id": "8d6bf115-113f-4801-86b3-a084ce5d7cbc",
   "metadata": {},
   "outputs": [],
   "source": [
    "import numpy as np"
   ]
  },
  {
   "cell_type": "code",
   "execution_count": 17,
   "id": "2c124d09-1eb3-4898-980a-623138a3541d",
   "metadata": {},
   "outputs": [],
   "source": [
    "a = [1,2,3]\n",
    "b = [2,3,4]"
   ]
  },
  {
   "cell_type": "code",
   "execution_count": 18,
   "id": "1471c166-a6dd-46ef-a3bf-81f5c1909c9a",
   "metadata": {},
   "outputs": [
    {
     "data": {
      "text/plain": [
       "20"
      ]
     },
     "execution_count": 18,
     "metadata": {},
     "output_type": "execute_result"
    }
   ],
   "source": [
    "np.dot(a, b)"
   ]
  },
  {
   "cell_type": "code",
   "execution_count": 19,
   "id": "d7b8d6ca-bec0-4460-9bfa-d0442012b44e",
   "metadata": {},
   "outputs": [
    {
     "data": {
      "text/plain": [
       "20"
      ]
     },
     "execution_count": 19,
     "metadata": {},
     "output_type": "execute_result"
    }
   ],
   "source": [
    "a[0]*b[0]+ a[1]*b[1]+ a[2]*b[2]"
   ]
  },
  {
   "cell_type": "markdown",
   "id": "5c0210bf-c886-41b9-9861-23be3e45906d",
   "metadata": {},
   "source": [
    "#### single layer with numpy"
   ]
  },
  {
   "cell_type": "code",
   "execution_count": 1,
   "id": "90316e0c-84a8-46c2-9cb6-6086c6cfd32a",
   "metadata": {},
   "outputs": [],
   "source": [
    "import numpy as np"
   ]
  },
  {
   "cell_type": "code",
   "execution_count": 3,
   "id": "67cd4948-2e80-4107-a761-4eba3306a60e",
   "metadata": {},
   "outputs": [],
   "source": [
    "inputs = [1.0, 2.0, 3.0, 2.5]"
   ]
  },
  {
   "cell_type": "code",
   "execution_count": 4,
   "id": "c09ce7d5-2224-493b-bba8-530eb280096f",
   "metadata": {},
   "outputs": [],
   "source": [
    "weights = [\n",
    "    [0.2, 0.8, -0.5, 1],\n",
    "    [0.5, -0.91, 0.26, -0.5],\n",
    "    [-0.26, -0.27, 0.17, 0.87]\n",
    "]\n",
    "biases = [2.0, 3.0, 0.5]"
   ]
  },
  {
   "cell_type": "code",
   "execution_count": 14,
   "id": "dc362cc2-8c15-478e-ada1-a47c5a969704",
   "metadata": {},
   "outputs": [],
   "source": [
    "layer_output = np.dot(weights, inputs) + biases"
   ]
  },
  {
   "cell_type": "code",
   "execution_count": 15,
   "id": "1e8bbb46-07dc-4859-8dc2-885465693484",
   "metadata": {},
   "outputs": [
    {
     "name": "stdout",
     "output_type": "stream",
     "text": [
      "[4.8   1.21  2.385]\n"
     ]
    }
   ],
   "source": [
    "print(layer_output)"
   ]
  },
  {
   "cell_type": "markdown",
   "id": "f81c5f15-e7e2-48f0-8d2c-f05d5ce93dc1",
   "metadata": {},
   "source": [
    "#### checking layer individualy"
   ]
  },
  {
   "cell_type": "code",
   "execution_count": 8,
   "id": "89d4fc38-b358-4c49-a660-f71a9fbc6411",
   "metadata": {},
   "outputs": [
    {
     "data": {
      "text/plain": [
       "4.8"
      ]
     },
     "execution_count": 8,
     "metadata": {},
     "output_type": "execute_result"
    }
   ],
   "source": [
    "# layer 1\n",
    "np.dot(weights[0], inputs) + biases[0]"
   ]
  },
  {
   "cell_type": "code",
   "execution_count": 12,
   "id": "6fb5d6ee-aa16-4285-98a2-c86e61477292",
   "metadata": {},
   "outputs": [
    {
     "data": {
      "text/plain": [
       "1.2099999999999997"
      ]
     },
     "execution_count": 12,
     "metadata": {},
     "output_type": "execute_result"
    }
   ],
   "source": [
    "# layer 2\n",
    "np.dot(weights[1], inputs) + biases[1]"
   ]
  },
  {
   "cell_type": "code",
   "execution_count": 13,
   "id": "2ff66034-8664-428d-8866-bc7a7ec43f78",
   "metadata": {},
   "outputs": [
    {
     "data": {
      "text/plain": [
       "2.385"
      ]
     },
     "execution_count": 13,
     "metadata": {},
     "output_type": "execute_result"
    }
   ],
   "source": [
    "# layer 1\n",
    "np.dot(weights[2], inputs) + biases[2]"
   ]
  },
  {
   "cell_type": "markdown",
   "id": "709cb44d-4623-44d2-b181-63e633d4bf85",
   "metadata": {},
   "source": [
    "#### multiplication by transpose"
   ]
  },
  {
   "cell_type": "code",
   "execution_count": 21,
   "id": "6be5e8b6-170c-4988-9691-0fbe52b5905e",
   "metadata": {},
   "outputs": [],
   "source": [
    "a = np.array([1,2,3])\n",
    "b = np.array([2,3,4])"
   ]
  },
  {
   "cell_type": "code",
   "execution_count": 24,
   "id": "4ec4999c-542e-4a80-8dc6-24e0b6aed381",
   "metadata": {},
   "outputs": [
    {
     "data": {
      "text/plain": [
       "20"
      ]
     },
     "execution_count": 24,
     "metadata": {},
     "output_type": "execute_result"
    }
   ],
   "source": [
    "np.dot(a,b.T)"
   ]
  },
  {
   "cell_type": "markdown",
   "id": "8e563539-acb4-4350-b9fb-b6fbb6240ba0",
   "metadata": {},
   "source": [
    "#### Layer of neurons and batch of data"
   ]
  },
  {
   "cell_type": "code",
   "execution_count": 41,
   "id": "7129af9f-2d93-4188-9035-c7f9d4e6584d",
   "metadata": {},
   "outputs": [],
   "source": [
    "inputs = [\n",
    "    [1.0, 2.0, 3.0, 2.5],\n",
    "    [2.0, 5.0, -1.0, 2.0],\n",
    "    [-1.5, 2.7, 3.3, -0.8]\n",
    "]\n",
    "\n",
    "weights = [\n",
    "    [0.2, 0.8, -0.5, 1],\n",
    "    [0.5, -0.91, 0.26, -0.5],\n",
    "    [-0.26, -0.27, 0.17, 0.87]\n",
    "]"
   ]
  },
  {
   "cell_type": "code",
   "execution_count": 42,
   "id": "bfad4d74-2ba5-40b1-a88d-3fd7074b0934",
   "metadata": {},
   "outputs": [],
   "source": [
    "biases = [2.0, 3.0, 0.5]"
   ]
  },
  {
   "cell_type": "code",
   "execution_count": 43,
   "id": "fbf4e367-ab52-41c2-9254-7d683d0a94e7",
   "metadata": {},
   "outputs": [],
   "source": [
    "output = np.dot(inputs, np.array(weights).T) +  biases"
   ]
  },
  {
   "cell_type": "code",
   "execution_count": 44,
   "id": "b24e0394-317f-4354-8ca4-b4c01ccc304e",
   "metadata": {},
   "outputs": [
    {
     "data": {
      "text/plain": [
       "array([[ 4.8  ,  1.21 ,  2.385],\n",
       "       [ 8.9  , -1.81 ,  0.2  ],\n",
       "       [ 1.41 ,  1.051,  0.026]])"
      ]
     },
     "execution_count": 44,
     "metadata": {},
     "output_type": "execute_result"
    }
   ],
   "source": [
    "output"
   ]
  },
  {
   "cell_type": "markdown",
   "id": "f8ea4820-c013-4f92-8813-035885f1ab41",
   "metadata": {},
   "source": [
    "#### adding layers"
   ]
  },
  {
   "cell_type": "code",
   "execution_count": 45,
   "id": "a054204a-6686-46d5-aa2e-af9be059f519",
   "metadata": {},
   "outputs": [],
   "source": [
    "inputs = [\n",
    "    [1.0, 2.0, 3.0, 2.5],\n",
    "    [2.0, 5.0, -1.0, 2.0],\n",
    "    [-1.5, 2.7, 3.3, -0.8]\n",
    "]\n",
    "\n",
    "weights1 = [\n",
    "    [0.2, 0.8, -0.5, 1],\n",
    "    [0.5, -0.91, 0.26, -0.5],\n",
    "    [-0.26, -0.27, 0.17, 0.87]\n",
    "]\n",
    "\n",
    "biases1 = [2.0, 3.0, 0.5]\n",
    "\n"
   ]
  },
  {
   "cell_type": "code",
   "execution_count": 46,
   "id": "1c173c73-8abb-4f20-922d-92d3c7c11b42",
   "metadata": {},
   "outputs": [],
   "source": [
    "weights2 = [\n",
    "    [0.1, -0.14, 0.5],\n",
    "    [-0.5, 0.12, -0.33],\n",
    "    [-0.44, 0.73, -0.13]\n",
    "]\n",
    "\n",
    "biases2 = [-1, 2, 0.5]"
   ]
  },
  {
   "cell_type": "code",
   "execution_count": 47,
   "id": "1a40b2c4-c576-4a3f-b8b9-4389cbdd2314",
   "metadata": {},
   "outputs": [],
   "source": [
    "layer1_outputs = np.dot(inputs, np.array(weights1).T) + biases1\n",
    "layer2_outputs = np.dot(layer1_outputs, np.array(weights2).T) + biases2"
   ]
  },
  {
   "cell_type": "code",
   "execution_count": 48,
   "id": "64007cca-be28-4eba-a0b5-805fe0760ee9",
   "metadata": {},
   "outputs": [
    {
     "data": {
      "text/plain": [
       "array([[ 0.5031 , -1.04185, -1.03875],\n",
       "       [ 0.2434 , -2.7332 , -4.7633 ],\n",
       "       [-0.99314,  1.41254,  0.64345]])"
      ]
     },
     "execution_count": 48,
     "metadata": {},
     "output_type": "execute_result"
    }
   ],
   "source": [
    "layer2_outputs"
   ]
  },
  {
   "cell_type": "code",
   "execution_count": 50,
   "id": "428efed0-e46b-48a2-9b31-6c5a6fefc5a2",
   "metadata": {},
   "outputs": [
    {
     "data": {
      "text/plain": [
       "array([[ 1, -1, -1],\n",
       "       [ 1, -1, -1],\n",
       "       [-1,  1,  1]])"
      ]
     },
     "execution_count": 50,
     "metadata": {},
     "output_type": "execute_result"
    }
   ],
   "source": [
    "np.array([\n",
    "    [1, -1, -1],\n",
    "    [1, -1,-1],\n",
    "    [-1, 1, 1]\n",
    "])"
   ]
  },
  {
   "cell_type": "code",
   "execution_count": null,
   "id": "6f5db933-0880-4ecb-a4f9-c1f4f0fbb8b7",
   "metadata": {},
   "outputs": [],
   "source": []
  }
 ],
 "metadata": {
  "kernelspec": {
   "display_name": "Python 3 (ipykernel)",
   "language": "python",
   "name": "python3"
  },
  "language_info": {
   "codemirror_mode": {
    "name": "ipython",
    "version": 3
   },
   "file_extension": ".py",
   "mimetype": "text/x-python",
   "name": "python",
   "nbconvert_exporter": "python",
   "pygments_lexer": "ipython3",
   "version": "3.12.7"
  }
 },
 "nbformat": 4,
 "nbformat_minor": 5
}
